{
 "cells": [
  {
   "cell_type": "code",
   "execution_count": 1,
   "metadata": {
    "execution": {
     "iopub.execute_input": "2021-02-16T23:17:22.376817Z",
     "iopub.status.busy": "2021-02-16T23:17:22.376141Z",
     "iopub.status.idle": "2021-02-16T23:17:42.419492Z",
     "shell.execute_reply": "2021-02-16T23:17:42.418348Z"
    },
    "papermill": {
     "duration": 20.054574,
     "end_time": "2021-02-16T23:17:42.419815",
     "exception": false,
     "start_time": "2021-02-16T23:17:22.365241",
     "status": "completed"
    },
    "tags": []
   },
   "outputs": [],
   "source": [
    "# IMPORTANT: Turn off the internet and select GPU as an accelerator.\n",
    "\n",
    "\n",
    "#import libraries\n",
    "import numpy as np # linear algebra\n",
    "import pandas as pd # data processing, CSV file I/O (e.g. pd.read_csv)\n",
    "import tensorflow as tf\n",
    "import re, os, math\n",
    "import matplotlib.pyplot as plt\n",
    "import keras\n",
    "from sklearn.model_selection import train_test_split\n",
    "from keras.preprocessing import image\n",
    "from keras.preprocessing.image import ImageDataGenerator\n",
    "from tensorflow.keras.applications import imagenet_utils\n",
    "from PIL import Image\n",
    "\n",
    "\n",
    "#Set up variables\n",
    "WORK_DIR = '../input/cassava-leaf-disease-classification'\n",
    "TARGET_SIZE = 512\n",
    "\n",
    "\n",
    "# Import the trained model\n",
    "# Recreate the exact same model, including its weights and the optimizer\n",
    "model = tf.keras.models.load_model('../input/efnb3-from-colab/model_efnB3_v1.h5')\n",
    "model.trainable = False\n",
    "\n",
    "\n",
    "# Carregar arquivo sample_submission.csv\n",
    "submission_file = pd.read_csv(os.path.join(WORK_DIR, 'sample_submission.csv'))\n",
    "\n",
    "\n",
    "# Predictions\n",
    "predictions = []\n",
    "\n",
    "for image_id in submission_file.image_id:\n",
    "    image = Image.open(os.path.join(f'../input/cassava-leaf-disease-classification/test_images/{image_id}'))\n",
    "    image = image.resize((TARGET_SIZE, TARGET_SIZE))\n",
    "    image = np.expand_dims(image, axis = 0)\n",
    "    \n",
    "    preds = np.argmax(model.predict(image))\n",
    "    predictions.append(preds)\n",
    "\n",
    "    \n",
    "# creating the submission file\n",
    "submission_file['label'] = predictions\n",
    "\n",
    "submission_file.to_csv('submission.csv', index = False)"
   ]
  }
 ],
 "metadata": {
  "kernelspec": {
   "display_name": "Python 3",
   "language": "python",
   "name": "python3"
  },
  "language_info": {
   "codemirror_mode": {
    "name": "ipython",
    "version": 3
   },
   "file_extension": ".py",
   "mimetype": "text/x-python",
   "name": "python",
   "nbconvert_exporter": "python",
   "pygments_lexer": "ipython3",
   "version": "3.7.9"
  },
  "papermill": {
   "default_parameters": {},
   "duration": 27.604463,
   "end_time": "2021-02-16T23:17:45.353908",
   "environment_variables": {},
   "exception": null,
   "input_path": "__notebook__.ipynb",
   "output_path": "__notebook__.ipynb",
   "parameters": {},
   "start_time": "2021-02-16T23:17:17.749445",
   "version": "2.2.2"
  }
 },
 "nbformat": 4,
 "nbformat_minor": 4
}
